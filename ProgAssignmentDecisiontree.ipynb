{
 "cells": [
  {
   "cell_type": "code",
   "execution_count": 1,
   "metadata": {
    "colab": {
     "base_uri": "https://localhost:8080/",
     "height": 74
    },
    "colab_type": "code",
    "id": "OBw-cwfymtv8",
    "outputId": "09eb4759-2e1e-46e3-b6bf-bf89315ae7f5",
    "pycharm": {}
   },
   "outputs": [
    {
     "name": "stderr",
     "output_type": "stream",
     "text": [
      "C:\\ProgramData\\Anaconda3\\lib\\site-packages\\ipykernel_launcher.py:4: DeprecationWarning: numpy.core.umath_tests is an internal NumPy module and should not be imported. It will be removed in a future NumPy release.\n",
      "  after removing the cwd from sys.path.\n"
     ]
    }
   ],
   "source": [
    "from sklearn.model_selection import train_test_split\n",
    "import numpy as np\n",
    "import pandas as pd\n",
    "from numpy.core.umath_tests import inner1d\n",
    "from sklearn import metrics\n",
    "from sklearn.metrics import accuracy_score\n",
    "from sklearn.tree import DecisionTreeClassifier\n",
    "import matplotlib.pyplot as plt\n",
    "from sklearn.naive_bayes import GaussianNB\n",
    "from copy import deepcopy"
   ]
  },
  {
   "cell_type": "code",
   "execution_count": 2,
   "metadata": {
    "colab": {},
    "colab_type": "code",
    "id": "FdAxdFHz1AXr"
   },
   "outputs": [],
   "source": [
    "X_Dataset = pd.read_csv('C:/Users/gurun/Desktop/4/dataset.csv')\n",
    "\n",
    "Dataset_Judge = pd.read_csv('C:/Users/gurun/Desktop/4/judge-no-labels.csv')"
   ]
  },
  {
   "cell_type": "code",
   "execution_count": 3,
   "metadata": {
    "colab": {},
    "colab_type": "code",
    "id": "MIf6fGU78S6K"
   },
   "outputs": [],
   "source": [
    "Y_Dataset = X_Dataset.iloc[:,-1].values\n",
    "X_Dataset = X_Dataset.iloc[:, :-1].values"
   ]
  },
  {
   "cell_type": "code",
   "execution_count": 4,
   "metadata": {
    "colab": {},
    "colab_type": "code",
    "id": "fT4QQnZTz-sL"
   },
   "outputs": [],
   "source": [
    "from sklearn.model_selection import train_test_split\n",
    "TrainX, TestX, TrainY, TestY = train_test_split(X_Dataset, Y_Dataset, test_size=0.2, random_state=2535)\n"
   ]
  },
  {
   "cell_type": "markdown",
   "metadata": {
    "colab_type": "text",
    "id": "2QDVXGLcmtwB"
   },
   "source": [
    "## Importing the data"
   ]
  },
  {
   "cell_type": "markdown",
   "metadata": {
    "colab_type": "text",
    "id": "L4dog20qmtwo"
   },
   "source": [
    "## Developing AdaBoost from scratch"
   ]
  },
  {
   "cell_type": "code",
   "execution_count": 5,
   "metadata": {
    "colab": {},
    "colab_type": "code",
    "id": "_mzeBf1Dmtwo"
   },
   "outputs": [],
   "source": [
    "class AdaBoostClassifier(object):\n",
    "    def __init__(self, *args, **kwargs):\n",
    "        if kwargs and args:\n",
    "            raise ValueError(\n",
    "                '''AdaBoostClassifier can only be called with keyword\n",
    "                   arguments for the following keywords: base_estimator ,estimator_num,\n",
    "                    learning_rate,algorithm,random_state''')\n",
    "        allowed_keys = ['base_estimator', 'estimator_num', 'learning_rate', 'algorithm', 'random_state']\n",
    "        keywords_used = kwargs.keys()\n",
    "        for keyword in keywords_used:\n",
    "            if keyword not in allowed_keys:\n",
    "                raise ValueError(keyword + \":  Wrong keyword used --- check spelling\")\n",
    "\n",
    "        estimator_num = 50\n",
    "        learning_rate = 1\n",
    "        algorithm = 'SAMME.R'\n",
    "        random_state = None\n",
    "\n",
    "        if kwargs and not args:\n",
    "            if 'base_estimator' in kwargs:\n",
    "                base_estimator = kwargs.pop('base_estimator')\n",
    "            else:\n",
    "                raise ValueError('''base_estimator can not be None''')\n",
    "            if 'estimator_num' in kwargs: estimator_num = kwargs.pop('estimator_num')\n",
    "            if 'learning_rate' in kwargs: learning_rate = kwargs.pop('learning_rate')\n",
    "            if 'algorithm' in kwargs: algorithm = kwargs.pop('algorithm')\n",
    "            if 'random_state' in kwargs: random_state = kwargs.pop('random_state')\n",
    "\n",
    "        self.base_estimator_ = base_estimator\n",
    "        self.n_estimators_ = estimator_num\n",
    "        self.learning_rate_ = learning_rate\n",
    "        self.algorithm_ = algorithm\n",
    "        self.random_state_ = random_state\n",
    "        self.estimators_ = list()\n",
    "        self.estimator_weights_ = np.zeros(self.n_estimators_)\n",
    "        self.estimator_errors_ = np.ones(self.n_estimators_)\n",
    "\n",
    "\n",
    "    def _samme_proba(self, estimator, n_classes, X):\n",
    "\n",
    "        proba = estimator.predict_proba(X)\n",
    "\n",
    "        # Displace zero probabilities so the log is defined.\n",
    "        # Also fix negative elements which may occur with\n",
    "        # negative sample weights.\n",
    "        proba[proba < np.finfo(proba.dtype).eps] = np.finfo(proba.dtype).eps\n",
    "        log_proba = np.log(proba)\n",
    "\n",
    "        return (n_classes - 1) * (log_proba - (1. / n_classes)\n",
    "                                  * log_proba.sum(axis=1)[:, np.newaxis])\n",
    "\n",
    "    def fit(self, X, y):\n",
    "        self.n_samples = X.shape[0]\n",
    "        # There is hidden trouble for classes, here the classes will be sorted.\n",
    "        # So in boost we have to ensure that the predict results have the same classes sort\n",
    "        self.classes_ = np.array(sorted(list(set(y))))\n",
    "        self.n_classes_ = len(self.classes_)\n",
    "        for iboost in range(self.n_estimators_):\n",
    "            if iboost == 0:\n",
    "                sample_weight = np.ones(self.n_samples) / self.n_samples\n",
    "\n",
    "            sample_weight, estimator_weight, estimator_error = self.boost(X, y, sample_weight)\n",
    "\n",
    "            # early stop\n",
    "            if estimator_error == None:\n",
    "                break\n",
    "\n",
    "            # append error and weight\n",
    "            self.estimator_errors_[iboost] = estimator_error\n",
    "            self.estimator_weights_[iboost] = estimator_weight\n",
    "\n",
    "            if estimator_error <= 0:\n",
    "                break\n",
    "\n",
    "        return self\n",
    "\n",
    "    def boost(self, X, y, sample_weight):\n",
    "        if self.algorithm_ == 'SAMME':\n",
    "            return self.discrete_boost(X, y, sample_weight)\n",
    "        elif self.algorithm_ == 'SAMME.R':\n",
    "            return self.real_boost(X, y, sample_weight)\n",
    "\n",
    "    def real_boost(self, X, y, sample_weight):\n",
    "        estimator = deepcopy(self.base_estimator_)\n",
    "        if self.random_state_:\n",
    "            estimator.set_params(random_state=1)\n",
    "\n",
    "        estimator.fit(X, y, sample_weight=sample_weight)\n",
    "\n",
    "        y_pred = estimator.predict(X)\n",
    "        incorrect = y_pred != y\n",
    "        estimator_error = np.dot(incorrect, sample_weight) / np.sum(sample_weight, axis=0)\n",
    "\n",
    "        # if worse than random guess, stop boosting\n",
    "        if estimator_error >= 1.0 - 1 / self.n_classes_:\n",
    "            return None, None, None\n",
    "\n",
    "        y_predict_proba = estimator.predict_proba(X)\n",
    "        # repalce zero\n",
    "        y_predict_proba[y_predict_proba < np.finfo(y_predict_proba.dtype).eps] = np.finfo(y_predict_proba.dtype).eps\n",
    "\n",
    "        y_codes = np.array([-1. / (self.n_classes_ - 1), 1.])\n",
    "        y_coding = y_codes.take(self.classes_ == y[:, np.newaxis])\n",
    "\n",
    "        # for sample weight update\n",
    "        intermediate_variable = (-1. * self.learning_rate_ * (((self.n_classes_ - 1) / self.n_classes_) *\n",
    "                                                              inner1d(y_coding, np.log(\n",
    "                                                                  y_predict_proba))))  #dot iterate for each row\n",
    "\n",
    "        # update sample weight\n",
    "        sample_weight *= np.exp(intermediate_variable)\n",
    "\n",
    "        sample_weight_sum = np.sum(sample_weight, axis=0)\n",
    "        if sample_weight_sum <= 0:\n",
    "            return None, None, None\n",
    "\n",
    "        # normalize sample weight\n",
    "        sample_weight /= sample_weight_sum\n",
    "\n",
    "        # append the estimator\n",
    "        self.estimators_.append(estimator)\n",
    "\n",
    "        return sample_weight, 1, estimator_error\n",
    "\n",
    "\n",
    "    def discrete_boost(self, X, y, sample_weight):\n",
    "        estimator = deepcopy(self.base_estimator_)\n",
    "        if self.random_state_:\n",
    "            estimator.set_params(random_state=1)\n",
    "\n",
    "        estimator.fit(X, y, sample_weight=sample_weight)\n",
    "\n",
    "        y_pred = estimator.predict(X)\n",
    "        incorrect = y_pred != y\n",
    "        estimator_error = np.dot(incorrect, sample_weight) / np.sum(sample_weight, axis=0)\n",
    "\n",
    "        # if worse than random guess, stop boosting\n",
    "        if estimator_error >= 1 - 1 / self.n_classes_:\n",
    "            return None, None, None\n",
    "\n",
    "        # update estimator_weight\n",
    "        estimator_weight = self.learning_rate_ * np.log((1 - estimator_error) / estimator_error) + np.log(\n",
    "            self.n_classes_ - 1)\n",
    "\n",
    "        if estimator_weight <= 0:\n",
    "            return None, None, None\n",
    "\n",
    "        # update sample weight\n",
    "        sample_weight *= np.exp(estimator_weight * incorrect)\n",
    "\n",
    "        sample_weight_sum = np.sum(sample_weight, axis=0)\n",
    "        if sample_weight_sum <= 0:\n",
    "            return None, None, None\n",
    "\n",
    "        # normalize sample weight\n",
    "        sample_weight /= sample_weight_sum\n",
    "\n",
    "        # append the estimator\n",
    "        self.estimators_.append(estimator)\n",
    "\n",
    "        return sample_weight, estimator_weight, estimator_error\n",
    "\n",
    "    def predict(self, X):\n",
    "        n_classes = self.n_classes_\n",
    "        classes = self.classes_[:, np.newaxis]\n",
    "        pred = None\n",
    "\n",
    "        if self.algorithm_ == 'SAMME.R':\n",
    "            # The weights are all 1. for SAMME.R\n",
    "            pred = sum(self._samme_proba(estimator, n_classes, X) for estimator in self.estimators_)\n",
    "        else:  # self.algorithm == \"SAMME\"\n",
    "            pred = sum((estimator.predict(X) == classes).T * w\n",
    "                       for estimator, w in zip(self.estimators_,\n",
    "                                               self.estimator_weights_))\n",
    "\n",
    "        pred /= self.estimator_weights_.sum()\n",
    "        if n_classes == 2:\n",
    "            pred[:, 0] *= -1\n",
    "            pred = pred.sum(axis=1)\n",
    "            return self.classes_.take(pred > 0, axis=0)\n",
    "\n",
    "        return self.classes_.take(np.argmax(pred, axis=1), axis=0)\n",
    "\n",
    "\n",
    "    def predict_proba(self, X):\n",
    "        if self.algorithm_ == 'SAMME.R':\n",
    "            # The weights are all 1. for SAMME.R\n",
    "            proba = sum(self._samme_proba(estimator, self.n_classes_, X)\n",
    "                        for estimator in self.estimators_)\n",
    "        else:  # self.algorithm == \"SAMME\"\n",
    "            proba = sum(estimator.predict_proba(X) * w\n",
    "                        for estimator, w in zip(self.estimators_,\n",
    "                                                self.estimator_weights_))\n",
    "\n",
    "        proba /= self.estimator_weights_.sum()\n",
    "        proba = np.exp((1. / (n_classes - 1)) * proba)\n",
    "        normalizer = proba.sum(axis=1)[:, np.newaxis]\n",
    "        normalizer[normalizer == 0.0] = 1.0\n",
    "        proba /= normalizer\n",
    "\n",
    "        return proba"
   ]
  },
  {
   "cell_type": "markdown",
   "metadata": {},
   "source": [
    "# TRAINING ERROR FOR THE ADABOOST CLASSIFIER"
   ]
  },
  {
   "cell_type": "code",
   "execution_count": 6,
   "metadata": {
    "colab": {
     "base_uri": "https://localhost:8080/",
     "height": 74
    },
    "colab_type": "code",
    "id": "84sOsCgVszIW",
    "outputId": "dec84e24-b9be-4120-d713-a9c1792b7b0b"
   },
   "outputs": [
    {
     "data": {
      "text/plain": [
       "numpy.ndarray"
      ]
     },
     "execution_count": 6,
     "metadata": {},
     "output_type": "execute_result"
    }
   ],
   "source": [
    "type(TrainX)"
   ]
  },
  {
   "cell_type": "code",
   "execution_count": 7,
   "metadata": {},
   "outputs": [],
   "source": [
    "from sklearn.tree import DecisionTreeClassifier"
   ]
  },
  {
   "cell_type": "code",
   "execution_count": 8,
   "metadata": {},
   "outputs": [],
   "source": [
    "Accuracy_training_A=[]\n",
    "for i in range(1,100):\n",
    "    ada=AdaBoostClassifier(base_estimator= DecisionTreeClassifier(max_depth=8), estimator_num=i, learning_rate=1, algorithm='SAMME')\n",
    "    ada.fit(TrainX, TrainY)\n",
    "    predict_train = ada.predict(TrainX)\n",
    "    Accuracy_training_A.append(accuracy_score(predict_train, TrainY))"
   ]
  },
  {
   "cell_type": "code",
   "execution_count": 9,
   "metadata": {},
   "outputs": [
    {
     "data": {
      "text/plain": [
       "0.9890873015873016"
      ]
     },
     "execution_count": 9,
     "metadata": {},
     "output_type": "execute_result"
    }
   ],
   "source": [
    "Ascore_tr1=accuracy_score(predict_train, TrainY)\n",
    "Ascore_tr1"
   ]
  },
  {
   "cell_type": "code",
   "execution_count": 10,
   "metadata": {},
   "outputs": [
    {
     "data": {
      "text/plain": [
       "[0.7815806878306878,\n",
       " 0.7815806878306878,\n",
       " 0.7934027777777778,\n",
       " 0.82432208994709,\n",
       " 0.8345734126984127,\n",
       " 0.8107638888888888,\n",
       " 0.8681382275132276,\n",
       " 0.855489417989418,\n",
       " 0.8702050264550265,\n",
       " 0.8841765873015873,\n",
       " 0.8921130952380952,\n",
       " 0.8957506613756614,\n",
       " 0.9006283068783069,\n",
       " 0.8997189153439153,\n",
       " 0.9020337301587301,\n",
       " 0.9187334656084656,\n",
       " 0.9270833333333334,\n",
       " 0.9318783068783069,\n",
       " 0.9245205026455027,\n",
       " 0.93369708994709,\n",
       " 0.9437003968253969,\n",
       " 0.9418816137566137,\n",
       " 0.9449404761904762,\n",
       " 0.9500661375661376,\n",
       " 0.951223544973545,\n",
       " 0.9508928571428571,\n",
       " 0.9563492063492064,\n",
       " 0.9523809523809523,\n",
       " 0.955109126984127,\n",
       " 0.9582506613756614,\n",
       " 0.9602347883597884,\n",
       " 0.957093253968254,\n",
       " 0.966848544973545,\n",
       " 0.9584986772486772,\n",
       " 0.9695767195767195,\n",
       " 0.9584986772486772,\n",
       " 0.9662698412698413,\n",
       " 0.9710648148148148,\n",
       " 0.9675925925925926,\n",
       " 0.9679232804232805,\n",
       " 0.9709821428571429,\n",
       " 0.9718088624338624,\n",
       " 0.974619708994709,\n",
       " 0.9713128306878307,\n",
       " 0.9708994708994709,\n",
       " 0.9762731481481481,\n",
       " 0.970651455026455,\n",
       " 0.9753637566137566,\n",
       " 0.9712301587301587,\n",
       " 0.9716435185185185,\n",
       " 0.9732142857142857,\n",
       " 0.978505291005291,\n",
       " 0.9790839947089947,\n",
       " 0.9799107142857143,\n",
       " 0.9747023809523809,\n",
       " 0.9794973544973545,\n",
       " 0.9790839947089947,\n",
       " 0.9794973544973545,\n",
       " 0.982473544973545,\n",
       " 0.9818121693121693,\n",
       " 0.9803240740740741,\n",
       " 0.9799933862433863,\n",
       " 0.982308201058201,\n",
       " 0.9827215608465608,\n",
       " 0.984209656084656,\n",
       " 0.9833829365079365,\n",
       " 0.982390873015873,\n",
       " 0.9875992063492064,\n",
       " 0.982473544973545,\n",
       " 0.9830522486772487,\n",
       " 0.982556216931217,\n",
       " 0.9830522486772487,\n",
       " 0.9822255291005291,\n",
       " 0.9836309523809523,\n",
       " 0.9837962962962963,\n",
       " 0.9876818783068783,\n",
       " 0.9851190476190477,\n",
       " 0.9813161375661376,\n",
       " 0.9829695767195767,\n",
       " 0.9853670634920635,\n",
       " 0.9818948412698413,\n",
       " 0.9852843915343915,\n",
       " 0.9856150793650794,\n",
       " 0.9856977513227513,\n",
       " 0.9871031746031746,\n",
       " 0.984292328042328,\n",
       " 0.988260582010582,\n",
       " 0.9877645502645502,\n",
       " 0.9852017195767195,\n",
       " 0.9884259259259259,\n",
       " 0.9861111111111112,\n",
       " 0.98817791005291,\n",
       " 0.9886739417989417,\n",
       " 0.9888392857142857,\n",
       " 0.9873511904761905,\n",
       " 0.9871858465608465,\n",
       " 0.9893353174603174,\n",
       " 0.9889219576719577,\n",
       " 0.9890873015873016]"
      ]
     },
     "execution_count": 10,
     "metadata": {},
     "output_type": "execute_result"
    }
   ],
   "source": [
    "Accuracy_training_A"
   ]
  },
  {
   "cell_type": "markdown",
   "metadata": {},
   "source": [
    "# TESTING ERROR FOR THE ADABOOST CLASSIFIER "
   ]
  },
  {
   "cell_type": "code",
   "execution_count": 11,
   "metadata": {},
   "outputs": [
    {
     "data": {
      "text/plain": [
       "numpy.ndarray"
      ]
     },
     "execution_count": 11,
     "metadata": {},
     "output_type": "execute_result"
    }
   ],
   "source": [
    "type(TestX)"
   ]
  },
  {
   "cell_type": "code",
   "execution_count": 12,
   "metadata": {
    "colab": {
     "base_uri": "https://localhost:8080/",
     "height": 140
    },
    "colab_type": "code",
    "id": "AbaIJNWnmtwp",
    "outputId": "aee735e7-7718-4dc6-8968-6432c79c9254"
   },
   "outputs": [],
   "source": [
    "from sklearn.tree import DecisionTreeClassifier\n",
    "Accuracy_testing_A=[]\n",
    "for i in range(1,100):\n",
    "    ada=AdaBoostClassifier(base_estimator= DecisionTreeClassifier(max_depth=8), estimator_num=i, learning_rate=1, algorithm='SAMME')\n",
    "    ada.fit(TrainX, TrainY)\n",
    "    predict_test = ada.predict(TestX)\n",
    "    Accuracy_testing_A.append(accuracy_score(predict_test, TestY))"
   ]
  },
  {
   "cell_type": "code",
   "execution_count": 13,
   "metadata": {
    "colab": {},
    "colab_type": "code",
    "id": "70YE5x3pmtwq"
   },
   "outputs": [
    {
     "data": {
      "text/plain": [
       "0.8482142857142857"
      ]
     },
     "execution_count": 13,
     "metadata": {},
     "output_type": "execute_result"
    }
   ],
   "source": [
    "Ascore_te1=accuracy_score(predict_test, TestY)\n",
    "Ascore_te1"
   ]
  },
  {
   "cell_type": "code",
   "execution_count": 14,
   "metadata": {},
   "outputs": [
    {
     "data": {
      "text/plain": [
       "[0.7218915343915344,\n",
       " 0.7202380952380952,\n",
       " 0.7248677248677249,\n",
       " 0.7546296296296297,\n",
       " 0.7311507936507936,\n",
       " 0.736441798941799,\n",
       " 0.7466931216931217,\n",
       " 0.7569444444444444,\n",
       " 0.7566137566137566,\n",
       " 0.7767857142857143,\n",
       " 0.7807539682539683,\n",
       " 0.7642195767195767,\n",
       " 0.7913359788359788,\n",
       " 0.7701719576719577,\n",
       " 0.7731481481481481,\n",
       " 0.7860449735449735,\n",
       " 0.7837301587301587,\n",
       " 0.7817460317460317,\n",
       " 0.7943121693121693,\n",
       " 0.7979497354497355,\n",
       " 0.7804232804232805,\n",
       " 0.7867063492063492,\n",
       " 0.8068783068783069,\n",
       " 0.8025793650793651,\n",
       " 0.8012566137566137,\n",
       " 0.8111772486772487,\n",
       " 0.8128306878306878,\n",
       " 0.8032407407407407,\n",
       " 0.796957671957672,\n",
       " 0.8005952380952381,\n",
       " 0.8029100529100529,\n",
       " 0.8078703703703703,\n",
       " 0.8177910052910053,\n",
       " 0.8068783068783069,\n",
       " 0.8111772486772487,\n",
       " 0.8095238095238095,\n",
       " 0.8039021164021164,\n",
       " 0.8045634920634921,\n",
       " 0.8148148148148148,\n",
       " 0.8187830687830688,\n",
       " 0.8330026455026455,\n",
       " 0.8161375661375662,\n",
       " 0.8224206349206349,\n",
       " 0.8072089947089947,\n",
       " 0.8171296296296297,\n",
       " 0.8187830687830688,\n",
       " 0.8154761904761905,\n",
       " 0.8078703703703703,\n",
       " 0.8068783068783069,\n",
       " 0.8323412698412699,\n",
       " 0.8138227513227513,\n",
       " 0.8250661375661376,\n",
       " 0.8296957671957672,\n",
       " 0.8210978835978836,\n",
       " 0.8273809523809523,\n",
       " 0.8174603174603174,\n",
       " 0.8161375661375662,\n",
       " 0.8253968253968254,\n",
       " 0.8290343915343915,\n",
       " 0.8356481481481481,\n",
       " 0.8293650793650794,\n",
       " 0.8204365079365079,\n",
       " 0.832010582010582,\n",
       " 0.8336640211640212,\n",
       " 0.8373015873015873,\n",
       " 0.8326719576719577,\n",
       " 0.8267195767195767,\n",
       " 0.8349867724867724,\n",
       " 0.8336640211640212,\n",
       " 0.8422619047619048,\n",
       " 0.8310185185185185,\n",
       " 0.8267195767195767,\n",
       " 0.8343253968253969,\n",
       " 0.8346560846560847,\n",
       " 0.8270502645502645,\n",
       " 0.8366402116402116,\n",
       " 0.8349867724867724,\n",
       " 0.8303571428571429,\n",
       " 0.8376322751322751,\n",
       " 0.8406084656084656,\n",
       " 0.8349867724867724,\n",
       " 0.8429232804232805,\n",
       " 0.8293650793650794,\n",
       " 0.8409391534391535,\n",
       " 0.8396164021164021,\n",
       " 0.8392857142857143,\n",
       " 0.8392857142857143,\n",
       " 0.8373015873015873,\n",
       " 0.8376322751322751,\n",
       " 0.8402777777777778,\n",
       " 0.8326719576719577,\n",
       " 0.8396164021164021,\n",
       " 0.8402777777777778,\n",
       " 0.8425925925925926,\n",
       " 0.8452380952380952,\n",
       " 0.8416005291005291,\n",
       " 0.8412698412698413,\n",
       " 0.8296957671957672,\n",
       " 0.8482142857142857]"
      ]
     },
     "execution_count": 14,
     "metadata": {},
     "output_type": "execute_result"
    }
   ],
   "source": [
    "Accuracy_testing_A"
   ]
  },
  {
   "cell_type": "code",
   "execution_count": 15,
   "metadata": {},
   "outputs": [],
   "source": [
    "import math\n",
    "Prediction_Judge = ada.predict(Dataset_Judge)"
   ]
  },
  {
   "cell_type": "code",
   "execution_count": 16,
   "metadata": {},
   "outputs": [
    {
     "data": {
      "text/plain": [
       "array([5, 5, 5, ..., 3, 3, 3], dtype=int64)"
      ]
     },
     "execution_count": 16,
     "metadata": {},
     "output_type": "execute_result"
    }
   ],
   "source": [
    "Prediction_Judge"
   ]
  },
  {
   "cell_type": "code",
   "execution_count": 17,
   "metadata": {},
   "outputs": [],
   "source": [
    "np.savetxt(\"judge-submission.csv\", Prediction_Judge, delimiter=\",\" )"
   ]
  },
  {
   "cell_type": "code",
   "execution_count": null,
   "metadata": {},
   "outputs": [],
   "source": []
  },
  {
   "cell_type": "code",
   "execution_count": null,
   "metadata": {},
   "outputs": [],
   "source": []
  },
  {
   "cell_type": "markdown",
   "metadata": {},
   "source": [
    "# TRAINING ERROR FOR THE BASE LEARNER WITHOUT THE ADABOOST CLASSIFIER"
   ]
  },
  {
   "cell_type": "code",
   "execution_count": 18,
   "metadata": {},
   "outputs": [],
   "source": [
    "from sklearn.tree import DecisionTreeClassifier\n",
    "from sklearn.metrics import accuracy_score"
   ]
  },
  {
   "cell_type": "code",
   "execution_count": 19,
   "metadata": {},
   "outputs": [],
   "source": [
    "Accuracy_training_B = []\n",
    "for i in range(1,100):\n",
    "    Classifier_Decisiontree= DecisionTreeClassifier(max_depth=i)\n",
    "    Classifier_Decisiontree.fit(TrainX, TrainY)\n",
    "    Decisiontree_train= Classifier_Decisiontree.predict(TrainX)\n",
    "    Accuracy_training_B.append(accuracy_score(Decisiontree_train, TrainY))\n",
    "  "
   ]
  },
  {
   "cell_type": "code",
   "execution_count": 20,
   "metadata": {},
   "outputs": [
    {
     "data": {
      "text/plain": [
       "[0.28678902116402116,\n",
       " 0.47428902116402116,\n",
       " 0.6027612433862434,\n",
       " 0.6479001322751323,\n",
       " 0.6776620370370371,\n",
       " 0.7129629629629629,\n",
       " 0.7489252645502645,\n",
       " 0.7815806878306878,\n",
       " 0.8148974867724867,\n",
       " 0.8444113756613757,\n",
       " 0.8719411375661376,\n",
       " 0.8956679894179894,\n",
       " 0.9191468253968254,\n",
       " 0.9387400793650794,\n",
       " 0.9538690476190477,\n",
       " 0.9654431216931217,\n",
       " 0.9750330687830688,\n",
       " 0.9809027777777778,\n",
       " 0.9847883597883598,\n",
       " 0.9885085978835979,\n",
       " 0.9923941798941799,\n",
       " 0.9942129629629629,\n",
       " 0.9955357142857143,\n",
       " 0.9965277777777778,\n",
       " 0.9971064814814815,\n",
       " 0.9972718253968254,\n",
       " 0.9978505291005291,\n",
       " 0.998098544973545,\n",
       " 0.9984292328042328,\n",
       " 0.9987599206349206,\n",
       " 0.9991732804232805,\n",
       " 0.9993386243386243,\n",
       " 0.9997519841269841,\n",
       " 1.0,\n",
       " 1.0,\n",
       " 1.0,\n",
       " 1.0,\n",
       " 1.0,\n",
       " 1.0,\n",
       " 1.0,\n",
       " 1.0,\n",
       " 1.0,\n",
       " 1.0,\n",
       " 1.0,\n",
       " 1.0,\n",
       " 1.0,\n",
       " 1.0,\n",
       " 1.0,\n",
       " 1.0,\n",
       " 1.0,\n",
       " 1.0,\n",
       " 1.0,\n",
       " 1.0,\n",
       " 1.0,\n",
       " 1.0,\n",
       " 1.0,\n",
       " 1.0,\n",
       " 1.0,\n",
       " 1.0,\n",
       " 1.0,\n",
       " 1.0,\n",
       " 1.0,\n",
       " 1.0,\n",
       " 1.0,\n",
       " 1.0,\n",
       " 1.0,\n",
       " 1.0,\n",
       " 1.0,\n",
       " 1.0,\n",
       " 1.0,\n",
       " 1.0,\n",
       " 1.0,\n",
       " 1.0,\n",
       " 1.0,\n",
       " 1.0,\n",
       " 1.0,\n",
       " 1.0,\n",
       " 1.0,\n",
       " 1.0,\n",
       " 1.0,\n",
       " 1.0,\n",
       " 1.0,\n",
       " 1.0,\n",
       " 1.0,\n",
       " 1.0,\n",
       " 1.0,\n",
       " 1.0,\n",
       " 1.0,\n",
       " 1.0,\n",
       " 1.0,\n",
       " 1.0,\n",
       " 1.0,\n",
       " 1.0,\n",
       " 1.0,\n",
       " 1.0,\n",
       " 1.0,\n",
       " 1.0,\n",
       " 1.0,\n",
       " 1.0]"
      ]
     },
     "execution_count": 20,
     "metadata": {},
     "output_type": "execute_result"
    }
   ],
   "source": [
    "Accuracy_training_B"
   ]
  },
  {
   "cell_type": "code",
   "execution_count": 21,
   "metadata": {},
   "outputs": [
    {
     "data": {
      "text/plain": [
       "1.0"
      ]
     },
     "execution_count": 21,
     "metadata": {},
     "output_type": "execute_result"
    }
   ],
   "source": [
    "Bscore_tr1=accuracy_score(Decisiontree_train, TrainY)\n",
    "Bscore_tr1\n",
    "\n"
   ]
  },
  {
   "cell_type": "markdown",
   "metadata": {},
   "source": [
    "# TESTING ERROR FOR THE BASE LEARNER WITHOUT THE ADABOOST CLASSIFIER"
   ]
  },
  {
   "cell_type": "code",
   "execution_count": 22,
   "metadata": {},
   "outputs": [],
   "source": [
    "from sklearn.tree import DecisionTreeClassifier\n",
    "from sklearn.metrics import accuracy_score"
   ]
  },
  {
   "cell_type": "code",
   "execution_count": 23,
   "metadata": {},
   "outputs": [],
   "source": [
    "Accuracy_testing_B= []\n",
    "for i in range(1,100):\n",
    "    Classifier_Decisiontree= DecisionTreeClassifier(max_depth=i)\n",
    "    Classifier_Decisiontree.fit(TrainX, TrainY)\n",
    "    Decisiontree_test= Classifier_Decisiontree.predict(TestX)\n",
    "    Accuracy_testing_B.append(accuracy_score(Decisiontree_test, TestY))"
   ]
  },
  {
   "cell_type": "code",
   "execution_count": 24,
   "metadata": {},
   "outputs": [
    {
     "data": {
      "text/plain": [
       "[0.2814153439153439,\n",
       " 0.49107142857142855,\n",
       " 0.6137566137566137,\n",
       " 0.6428571428571429,\n",
       " 0.6636904761904762,\n",
       " 0.6808862433862434,\n",
       " 0.7086640211640212,\n",
       " 0.7202380952380952,\n",
       " 0.7450396825396826,\n",
       " 0.7523148148148148,\n",
       " 0.7589285714285714,\n",
       " 0.77744708994709,\n",
       " 0.7734788359788359,\n",
       " 0.7817460317460317,\n",
       " 0.783068783068783,\n",
       " 0.7817460317460317,\n",
       " 0.7903439153439153,\n",
       " 0.7824074074074074,\n",
       " 0.7820767195767195,\n",
       " 0.7833994708994709,\n",
       " 0.7800925925925926,\n",
       " 0.7807539682539683,\n",
       " 0.7837301587301587,\n",
       " 0.781415343915344,\n",
       " 0.7824074074074074,\n",
       " 0.77744708994709,\n",
       " 0.7797619047619048,\n",
       " 0.779431216931217,\n",
       " 0.77744708994709,\n",
       " 0.7800925925925926,\n",
       " 0.7820767195767195,\n",
       " 0.7767857142857143,\n",
       " 0.7791005291005291,\n",
       " 0.7863756613756614,\n",
       " 0.7777777777777778,\n",
       " 0.7711640211640212,\n",
       " 0.7767857142857143,\n",
       " 0.7731481481481481,\n",
       " 0.7824074074074074,\n",
       " 0.7784391534391535,\n",
       " 0.7853835978835979,\n",
       " 0.769510582010582,\n",
       " 0.7787698412698413,\n",
       " 0.781415343915344,\n",
       " 0.7771164021164021,\n",
       " 0.77744708994709,\n",
       " 0.7771164021164021,\n",
       " 0.7840608465608465,\n",
       " 0.7781084656084656,\n",
       " 0.7771164021164021,\n",
       " 0.7787698412698413,\n",
       " 0.7741402116402116,\n",
       " 0.7807539682539683,\n",
       " 0.7728174603174603,\n",
       " 0.7824074074074074,\n",
       " 0.7824074074074074,\n",
       " 0.7787698412698413,\n",
       " 0.7820767195767195,\n",
       " 0.7791005291005291,\n",
       " 0.7757936507936508,\n",
       " 0.7800925925925926,\n",
       " 0.781084656084656,\n",
       " 0.7800925925925926,\n",
       " 0.7820767195767195,\n",
       " 0.7820767195767195,\n",
       " 0.7757936507936508,\n",
       " 0.7781084656084656,\n",
       " 0.7807539682539683,\n",
       " 0.7711640211640212,\n",
       " 0.7734788359788359,\n",
       " 0.7738095238095238,\n",
       " 0.7761243386243386,\n",
       " 0.77744708994709,\n",
       " 0.7837301587301587,\n",
       " 0.7771164021164021,\n",
       " 0.7781084656084656,\n",
       " 0.7731481481481481,\n",
       " 0.7797619047619048,\n",
       " 0.7738095238095238,\n",
       " 0.7807539682539683,\n",
       " 0.7761243386243386,\n",
       " 0.7767857142857143,\n",
       " 0.7817460317460317,\n",
       " 0.7728174603174603,\n",
       " 0.783068783068783,\n",
       " 0.7777777777777778,\n",
       " 0.7787698412698413,\n",
       " 0.7777777777777778,\n",
       " 0.7744708994708994,\n",
       " 0.7804232804232805,\n",
       " 0.7807539682539683,\n",
       " 0.7724867724867724,\n",
       " 0.7804232804232805,\n",
       " 0.783068783068783,\n",
       " 0.7797619047619048,\n",
       " 0.7771164021164021,\n",
       " 0.7784391534391535,\n",
       " 0.7767857142857143,\n",
       " 0.7738095238095238]"
      ]
     },
     "execution_count": 24,
     "metadata": {},
     "output_type": "execute_result"
    }
   ],
   "source": [
    "Accuracy_testing_B"
   ]
  },
  {
   "cell_type": "code",
   "execution_count": 25,
   "metadata": {},
   "outputs": [
    {
     "data": {
      "text/plain": [
       "0.7738095238095238"
      ]
     },
     "execution_count": 25,
     "metadata": {},
     "output_type": "execute_result"
    }
   ],
   "source": [
    "Bscore_te1=accuracy_score(Decisiontree_test,TestY)\n",
    "Bscore_te1"
   ]
  },
  {
   "cell_type": "markdown",
   "metadata": {},
   "source": [
    "# GRAPH BETWEEN THE TRAINING AND TEST ACCURACIES OF THE ADABOOST AND THE SINGLE BASE LEARNING CLASSIFIER VS THE NUMBER OF ROUNDS "
   ]
  },
  {
   "cell_type": "code",
   "execution_count": 28,
   "metadata": {},
   "outputs": [],
   "source": [
    "from matplotlib import pyplot as plt\n",
    "Accuracy_list=[]\n",
    "for a in range(0,99):\n",
    "    Accuracy_list.append(a)"
   ]
  },
  {
   "cell_type": "code",
   "execution_count": 30,
   "metadata": {},
   "outputs": [
    {
     "name": "stderr",
     "output_type": "stream",
     "text": [
      "No handles with labels found to put in legend.\n"
     ]
    },
    {
     "data": {
      "text/plain": [
       "<function matplotlib.pyplot.show(*args, **kw)>"
      ]
     },
     "execution_count": 30,
     "metadata": {},
     "output_type": "execute_result"
    },
    {
     "data": {
      "image/png": "[encoded data removed]",
      "text/plain": [
       "<Figure size 1440x576 with 1 Axes>"
      ]
     },
     "metadata": {
      "needs_background": "light"
     },
     "output_type": "display_data"
    }
   ],
   "source": [
    "plt.figure(figsize=(20,8))\n",
    "plt.plot(Accuracy_list, Accuracy_training_A, label=\"Adaboost Classifier's Training Accuracy\")\n",
    "plt.plot(Accuracy_list, Accuracy_testing_A, label=\"Adaboost Classifier's Testing Accuracy\")\n",
    "plt.plot(Accuracy_list, Accuracy_training_B, label=\"Single Base Learner's Training Accuracy\")\n",
    "plt.plot(Accuracy_list, Accuracy_testing_B, label=\"Single Base Learner's Training Accuracy\")\n",
    "plt.xlabel('Number of Rounds(X-axis)')\n",
    "plt.ylabel('Train-Test Accuracies of AdaBoost and Single Base Learning Classifier(Y-axis)')\n",
    "plt.legend(loc= 'lower right')\n",
    "plt.show\n"
   ]
  },
  {
   "cell_type": "markdown",
   "metadata": {},
   "source": [
    "# TASK on the training and testing accuracies of the AdaBoost Classifier"
   ]
  },
  {
   "cell_type": "markdown",
   "metadata": {},
   "source": [
    "TRAINING ACCURACY OF THE ADABOOST CLASSIFIER                     \n",
    "[0.7815806878306878,\n",
    " 0.7815806878306878,\n",
    " 0.7934027777777778,\n",
    " 0.82432208994709,\n",
    " .\n",
    " .\n",
    " .\n",
    " 0.9893353174603174,\n",
    " 0.9889219576719577,\n",
    " 0.9890873015873016]\n",
    " \n",
    "FINAL TRAINING ACCURACY OF THE ADABOOST CLASSIFIER = 98.908%\n",
    " \n",
    "TESTING ACCURACY OF THE ADABOOST CLASSIFIER              \n",
    "[0.7218915343915344,\n",
    " 0.7202380952380952,\n",
    " 0.7248677248677249,\n",
    " 0.7546296296296297,\n",
    " .\n",
    " .\n",
    " .\n",
    "  0.8416005291005291,\n",
    " 0.8412698412698413,\n",
    " 0.8296957671957672,\n",
    " 0.8482142857142857]\n",
    "\n",
    "\n",
    " FINAL TESTING ACCURACY OF THE ADABOOST CLASSIFIER = 84.821%\n",
    "\n",
    "TASK :In your experiments, you may have noticed something interesting about the accuracy (either training or test) when you run AdaBoost for 1 round or 2 rounds or more. Please provide a note why this happens.\n",
    "\n",
    "\n",
    "ANSWER: \n",
    "The first step of this kind of algorithm would be to initialize equal weights for the inputs. Following this step includes the updation of the input weights based on the previous rounds. This is repeated until all the rounds have been completed.\n",
    "Every time the base learning in our case the decision tree as a single base learner is applied, it genertes a new weak prediction rule. This continous for a number of rounds by means of process of an iteration. After so many iterations, the AdaBoost will help in combining the weak rules and finally converts into a single strong rule of prediction. As you see can see from the above accuracies provided we can see that the during each of the round the training and testing accuracies tend to increase. During each iteration the mis classified rate will decrease and as a result the accuracy would improve. \n"
   ]
  },
  {
   "cell_type": "markdown",
   "metadata": {},
   "source": [
    "# Kaggle Submission\n"
   ]
  },
  {
   "cell_type": "markdown",
   "metadata": {},
   "source": [
    "The Kaggle competition was submitted using the decision tree as the base learner for the Adaboost Classifier.\n",
    "\n",
    "Two entries were submitted and the best entry obtained was 0.68154 "
   ]
  },
  {
   "cell_type": "code",
   "execution_count": null,
   "metadata": {},
   "outputs": [],
   "source": []
  }
 ],
 "metadata": {
  "colab": {
   "collapsed_sections": [],
   "name": "MLA04.ipynb",
   "provenance": [],
   "version": "0.3.2"
  },
  "kernelspec": {
   "display_name": "Python 3",
   "language": "python",
   "name": "python3"
  },
  "language_info": {
   "codemirror_mode": {
    "name": "ipython",
    "version": 3
   },
   "file_extension": ".py",
   "mimetype": "text/x-python",
   "name": "python",
   "nbconvert_exporter": "python",
   "pygments_lexer": "ipython3",
   "version": "3.7.1"
  }
 },
 "nbformat": 4,
 "nbformat_minor": 2
}
